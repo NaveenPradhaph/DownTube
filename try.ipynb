{
 "cells": [
  {
   "cell_type": "markdown",
   "metadata": {},
   "source": [
    "<h1>DOWNTUBE</h1>"
   ]
  },
  {
   "cell_type": "code",
   "execution_count": 1,
   "metadata": {},
   "outputs": [],
   "source": [
    "import inquirer\n",
    "from pyfiglet import Figlet\n",
    "from pytube.__main__ import YouTube\n",
    "from rich import print\n",
    "from pytube import Stream\n",
    "import time\n",
    "import sys"
   ]
  },
  {
   "cell_type": "code",
   "execution_count": 2,
   "metadata": {},
   "outputs": [
    {
     "data": {
      "text/html": [
       "<pre style=\"white-space:pre;overflow-x:auto;line-height:normal;font-family:Menlo,'DejaVu Sans Mono',consolas,'Courier New',monospace\"><span style=\"color: #800000; text-decoration-color: #800000\"> _____                      _         _          </span>\n",
       "<span style=\"color: #800000; text-decoration-color: #800000\">|  __ \\                    | |       | |         </span>\n",
       "<span style=\"color: #800000; text-decoration-color: #800000\">| |  | | _____      ___ __ | |_ _   _| |__   ___ </span>\n",
       "<span style=\"color: #800000; text-decoration-color: #800000\">| |  | |/ _ \\ \\ /\\ / / </span><span style=\"color: #800000; text-decoration-color: #800000\">'_ \\| __| | | | '</span><span style=\"color: #800000; text-decoration-color: #800000\">_ \\ / _ \\</span>\n",
       "<span style=\"color: #800000; text-decoration-color: #800000\">| |__| | </span><span style=\"color: #800000; text-decoration-color: #800000; font-weight: bold\">(</span><span style=\"color: #800000; text-decoration-color: #800000\">_</span><span style=\"color: #800000; text-decoration-color: #800000; font-weight: bold\">)</span><span style=\"color: #800000; text-decoration-color: #800000\"> \\ V  V /| | | | |_| |_| | |_</span><span style=\"color: #800000; text-decoration-color: #800000; font-weight: bold\">)</span><span style=\"color: #800000; text-decoration-color: #800000\"> |  __/</span>\n",
       "<span style=\"color: #800000; text-decoration-color: #800000\">|_____/ \\___/ \\_/\\_/ |_| |_|\\__|\\__,_|_.__/ \\___|</span>\n",
       "<span style=\"color: #800000; text-decoration-color: #800000\">                                                 </span>\n",
       "<span style=\"color: #800000; text-decoration-color: #800000\">                                                 </span>\n",
       "\n",
       "</pre>\n"
      ],
      "text/plain": [
       "\u001b[31m _____                      _         _          \u001b[0m\n",
       "\u001b[31m|  __ \\                    | |       | |         \u001b[0m\n",
       "\u001b[31m| |  | | _____      ___ __ | |_ _   _| |__   ___ \u001b[0m\n",
       "\u001b[31m| |  | |\u001b[0m\u001b[31m/\u001b[0m\u001b[31m _ \\ \\ \u001b[0m\u001b[31m/\u001b[0m\u001b[31m\\ \u001b[0m\u001b[31m/\u001b[0m\u001b[31m \u001b[0m\u001b[31m/\u001b[0m\u001b[31m \u001b[0m\u001b[31m'_ \\| __| | | | '\u001b[0m\u001b[31m_ \\ \u001b[0m\u001b[31m/\u001b[0m\u001b[31m _ \\\u001b[0m\n",
       "\u001b[31m| |__| | \u001b[0m\u001b[1;31m(\u001b[0m\u001b[31m_\u001b[0m\u001b[1;31m)\u001b[0m\u001b[31m \\ V  V \u001b[0m\u001b[31m/\u001b[0m\u001b[31m| | | | |_| |_| | |_\u001b[0m\u001b[1;31m)\u001b[0m\u001b[31m |  __/\u001b[0m\n",
       "\u001b[31m|_____/ \\___/ \\_/\\_/ |_| |_|\\__|\\__,_|_.__/ \\___|\u001b[0m\n",
       "\u001b[31m                                                 \u001b[0m\n",
       "\u001b[31m                                                 \u001b[0m\n",
       "\n"
      ]
     },
     "metadata": {},
     "output_type": "display_data"
    }
   ],
   "source": [
    "figlet = Figlet(font='big')\n",
    "print(f\"[red]{figlet.renderText('Downtube')}[/red]\")"
   ]
  },
  {
   "cell_type": "code",
   "execution_count": 3,
   "metadata": {},
   "outputs": [],
   "source": [
    "video_url = \"https://youtu.be/MwtKJG_87fw?si=ysG17gJK52FsFny9\"\n",
    "url = 'https://youtu.be/gh3FyLT7WVg?list=RDgh3FyLT7WVg'\n",
    "url_supa = 'https://youtu.be/dU7GwCOgvNY?si=ovCJGbiQKdaFoVXm'"
   ]
  },
  {
   "cell_type": "code",
   "execution_count": 4,
   "metadata": {},
   "outputs": [],
   "source": [
    "yt = YouTube(url=url)\n",
    "video = yt.streams.filter(only_video=True)\n",
    "audio = yt.streams.filter(only_audio=True)"
   ]
  },
  {
   "cell_type": "code",
   "execution_count": 5,
   "metadata": {},
   "outputs": [],
   "source": [
    "resolution = dict()\n",
    "for x in video:\n",
    "        resolution[x.itag] = [x.resolution,x.fps,x.filesize_mb,x.mime_type]"
   ]
  },
  {
   "cell_type": "code",
   "execution_count": 6,
   "metadata": {},
   "outputs": [
    {
     "data": {
      "text/plain": [
       "{313: ['2160p', 24, 526.128, 'video/webm'],\n",
       " 271: ['1440p', 24, 250.595, 'video/webm'],\n",
       " 137: ['1080p', 24, 121.574, 'video/mp4'],\n",
       " 248: ['1080p', 24, 60.995, 'video/webm'],\n",
       " 136: ['720p', 24, 40.751, 'video/mp4'],\n",
       " 247: ['720p', 24, 36.981, 'video/webm'],\n",
       " 135: ['480p', 24, 27.761, 'video/mp4'],\n",
       " 244: ['480p', 24, 18.994, 'video/webm'],\n",
       " 134: ['360p', 24, 16.738, 'video/mp4'],\n",
       " 243: ['360p', 24, 12.277, 'video/webm'],\n",
       " 133: ['240p', 24, 7.345, 'video/mp4'],\n",
       " 242: ['240p', 24, 4.92, 'video/webm'],\n",
       " 160: ['144p', 24, 3.363, 'video/mp4'],\n",
       " 278: ['144p', 24, 2.482, 'video/webm']}"
      ]
     },
     "execution_count": 6,
     "metadata": {},
     "output_type": "execute_result"
    }
   ],
   "source": [
    "resolution"
   ]
  },
  {
   "cell_type": "code",
   "execution_count": 7,
   "metadata": {},
   "outputs": [
    {
     "data": {
      "text/plain": [
       "[<Stream: itag=\"139\" mime_type=\"audio/mp4\" abr=\"48kbps\" acodec=\"mp4a.40.5\" progressive=\"False\" type=\"audio\">, <Stream: itag=\"140\" mime_type=\"audio/mp4\" abr=\"128kbps\" acodec=\"mp4a.40.2\" progressive=\"False\" type=\"audio\">, <Stream: itag=\"249\" mime_type=\"audio/webm\" abr=\"50kbps\" acodec=\"opus\" progressive=\"False\" type=\"audio\">, <Stream: itag=\"250\" mime_type=\"audio/webm\" abr=\"70kbps\" acodec=\"opus\" progressive=\"False\" type=\"audio\">, <Stream: itag=\"251\" mime_type=\"audio/webm\" abr=\"160kbps\" acodec=\"opus\" progressive=\"False\" type=\"audio\">]"
      ]
     },
     "execution_count": 7,
     "metadata": {},
     "output_type": "execute_result"
    }
   ],
   "source": [
    "audio"
   ]
  },
  {
   "cell_type": "code",
   "execution_count": 8,
   "metadata": {},
   "outputs": [],
   "source": [
    "resolution = dict()\n",
    "for x in audio:\n",
    "        resolution[x.itag] = [x.mime_type,x.abr,x.filesize_mb]"
   ]
  },
  {
   "cell_type": "code",
   "execution_count": 9,
   "metadata": {},
   "outputs": [
    {
     "data": {
      "text/plain": [
       "{139: ['audio/mp4', '48kbps', 1.645],\n",
       " 140: ['audio/mp4', '128kbps', 4.362],\n",
       " 249: ['audio/webm', '50kbps', 1.711],\n",
       " 250: ['audio/webm', '70kbps', 2.226],\n",
       " 251: ['audio/webm', '160kbps', 4.339]}"
      ]
     },
     "execution_count": 9,
     "metadata": {},
     "output_type": "execute_result"
    }
   ],
   "source": [
    "resolution"
   ]
  },
  {
   "cell_type": "code",
   "execution_count": 10,
   "metadata": {},
   "outputs": [],
   "source": [
    "highest_quality_stream = None\n",
    "highest_bitrate = 0\n",
    "\n",
    "    # print(audio)\n",
    "\n",
    "    # # Iterate through the streams to find the highest quality audio\n",
    "for stream in audio:\n",
    "    if stream.type == \"audio\":\n",
    "        bitrate = int(stream.abr.replace(\"kbps\", \"\"))\n",
    "        if bitrate > highest_bitrate:\n",
    "            highest_bitrate = bitrate\n",
    "            highest_quality_stream = stream"
   ]
  },
  {
   "cell_type": "code",
   "execution_count": 11,
   "metadata": {},
   "outputs": [
    {
     "data": {
      "text/plain": [
       "<Stream: itag=\"251\" mime_type=\"audio/webm\" abr=\"160kbps\" acodec=\"opus\" progressive=\"False\" type=\"audio\">"
      ]
     },
     "execution_count": 11,
     "metadata": {},
     "output_type": "execute_result"
    }
   ],
   "source": [
    "highest_quality_stream"
   ]
  },
  {
   "cell_type": "code",
   "execution_count": 12,
   "metadata": {},
   "outputs": [],
   "source": [
    "def on_progress(\n",
    "    stream: Stream, chunk: bytes, bytes_remaining: int\n",
    ") -> None:  # pylint: disable=W0613\n",
    "    filesize = stream.filesize\n",
    "    bytes_received = filesize - bytes_remaining\n",
    "    display_progress_bar(bytes_received, filesize)\n",
    "\n",
    "start_time = time.time()"
   ]
  },
  {
   "cell_type": "code",
   "execution_count": 13,
   "metadata": {},
   "outputs": [],
   "source": [
    "\n",
    "def display_progress_bar(\n",
    "    bytes_received: int, filesize: int, ch: str = \"▬\", scale: float = 0.55\n",
    ") -> None:\n",
    "    \"\"\"Display a simple, pretty progress bar.\n",
    "\n",
    "    Example:\n",
    "    ~~~~~~~~\n",
    "    PSY - GANGNAM STYLE(강남스타일) MV.mp4\n",
    "    ↳ |▬▬▬▬▬▬▬▬▬▬▬▬▬▬▬▬▬▬▬▬▬▬▬▬▬▬▬▬▬▬▬▬▬▬▬▬▬▬▬| 100.0%\n",
    "\n",
    "    :param int bytes_received:\n",
    "        The delta between the total file size (bytes) and bytes already\n",
    "        written to disk.\n",
    "    :param int filesize:\n",
    "        File size of the media stream in bytes.\n",
    "    :param str ch:\n",
    "        Character to use for presenting progress segment.\n",
    "    :param float scale:\n",
    "        Scale multiplier to reduce progress bar size.\n",
    "\n",
    "    \"\"\"\n",
    "    columns = shutil.get_terminal_size().columns\n",
    "    max_width = int(columns * scale)\n",
    "\n",
    "    filled = int(round(max_width * bytes_received / float(filesize)))\n",
    "    remaining = max_width - filled\n",
    "    progress_bar = ch * filled + \" \" * remaining\n",
    "    # \n",
    "    downloaded_size = f\"{bytes_received / (1024 * 1024):.2f}MB\"\n",
    "    total_size = f\"{filesize / (1024 * 1024):.2f}MB\"\n",
    "    elapsed_time = time.time() - start_time\n",
    "    download_speed = bytes_received / elapsed_time  # Bytes per second\n",
    "    time_left = (filesize - bytes_received) / download_speed\n",
    "    time_left_str = time.strftime(\"%H:%M:%S\", time.gmtime(time_left))\n",
    "    # \n",
    "    percent = round(100.0 * bytes_received / float(filesize), 1)\n",
    "    text = f\"↳|{progress_bar}| {percent}% - {downloaded_size}/{total_size} - {time_left_str} left\\r\"\n",
    "    sys.stdout.write(text)\n",
    "    sys.stdout.flush()\n"
   ]
  },
  {
   "cell_type": "code",
   "execution_count": 15,
   "metadata": {},
   "outputs": [
    {
     "data": {
      "text/html": [
       "<pre style=\"white-space:pre;overflow-x:auto;line-height:normal;font-family:Menlo,'DejaVu Sans Mono',consolas,'Courier New',monospace\">File created in the cwd\n",
       "</pre>\n"
      ],
      "text/plain": [
       "File created in the cwd\n"
      ]
     },
     "metadata": {},
     "output_type": "display_data"
    },
    {
     "data": {
      "text/html": [
       "<pre style=\"white-space:pre;overflow-x:auto;line-height:normal;font-family:Menlo,'DejaVu Sans Mono',consolas,'Courier New',monospace\">d:\\TryOn\\DownTube\\vid5djr1txl.webm\n",
       "</pre>\n"
      ],
      "text/plain": [
       "d:\\TryOn\\DownTube\\vid5djr1txl.webm\n"
      ]
     },
     "metadata": {},
     "output_type": "display_data"
    },
    {
     "data": {
      "text/html": [
       "<pre style=\"white-space:pre;overflow-x:auto;line-height:normal;font-family:Menlo,'DejaVu Sans Mono',consolas,'Courier New',monospace\">Directory: d:\\TryOn\\DownTube\n",
       "</pre>\n"
      ],
      "text/plain": [
       "Directory: d:\\TryOn\\DownTube\n"
      ]
     },
     "metadata": {},
     "output_type": "display_data"
    },
    {
     "data": {
      "text/html": [
       "<pre style=\"white-space:pre;overflow-x:auto;line-height:normal;font-family:Menlo,'DejaVu Sans Mono',consolas,'Courier New',monospace\">Filename: vid5djr1txl.webm\n",
       "</pre>\n"
      ],
      "text/plain": [
       "Filename: vid5djr1txl.webm\n"
      ]
     },
     "metadata": {},
     "output_type": "display_data"
    },
    {
     "data": {
      "text/plain": [
       "'d:\\\\TryOn\\\\DownTube\\\\vid5djr1txl.webm'"
      ]
     },
     "execution_count": 15,
     "metadata": {},
     "output_type": "execute_result"
    }
   ],
   "source": [
    "import tempfile\n",
    "import os\n",
    "video_file = tempfile.TemporaryFile(\n",
    "    dir='./',\n",
    "    prefix=\"vid\",\n",
    "    suffix='.webm',\n",
    "    delete=False\n",
    ")\n",
    "print('File created in the cwd')\n",
    "print(video_file.name)\n",
    "\n",
    "file_path = video_file.name\n",
    "# Get the directory (folder) of the file\n",
    "directory = os.path.dirname(file_path)\n",
    "\n",
    "# Get the filename (with extension) from the file path\n",
    "filename = os.path.basename(file_path)\n",
    "\n",
    "print(\"Directory:\", directory)\n",
    "print(\"Filename:\", filename)\n",
    "\n",
    "yt.streams.get_by_itag(248).download(output_path=directory,filename=filename)"
   ]
  },
  {
   "cell_type": "code",
   "execution_count": null,
   "metadata": {},
   "outputs": [],
   "source": [
    "# video_file.close()"
   ]
  },
  {
   "cell_type": "code",
   "execution_count": 16,
   "metadata": {},
   "outputs": [
    {
     "data": {
      "text/html": [
       "<pre style=\"white-space:pre;overflow-x:auto;line-height:normal;font-family:Menlo,'DejaVu Sans Mono',consolas,'Courier New',monospace\">File created in the cwd\n",
       "</pre>\n"
      ],
      "text/plain": [
       "File created in the cwd\n"
      ]
     },
     "metadata": {},
     "output_type": "display_data"
    },
    {
     "data": {
      "text/html": [
       "<pre style=\"white-space:pre;overflow-x:auto;line-height:normal;font-family:Menlo,'DejaVu Sans Mono',consolas,'Courier New',monospace\">d:\\TryOn\\DownTube\\vidxahre71k.webm\n",
       "</pre>\n"
      ],
      "text/plain": [
       "d:\\TryOn\\DownTube\\vidxahre71k.webm\n"
      ]
     },
     "metadata": {},
     "output_type": "display_data"
    },
    {
     "data": {
      "text/html": [
       "<pre style=\"white-space:pre;overflow-x:auto;line-height:normal;font-family:Menlo,'DejaVu Sans Mono',consolas,'Courier New',monospace\">Directory: d:\\TryOn\\DownTube\n",
       "</pre>\n"
      ],
      "text/plain": [
       "Directory: d:\\TryOn\\DownTube\n"
      ]
     },
     "metadata": {},
     "output_type": "display_data"
    },
    {
     "data": {
      "text/html": [
       "<pre style=\"white-space:pre;overflow-x:auto;line-height:normal;font-family:Menlo,'DejaVu Sans Mono',consolas,'Courier New',monospace\">Filename: vidxahre71k.webm\n",
       "</pre>\n"
      ],
      "text/plain": [
       "Filename: vidxahre71k.webm\n"
      ]
     },
     "metadata": {},
     "output_type": "display_data"
    },
    {
     "data": {
      "text/plain": [
       "'d:\\\\TryOn\\\\DownTube\\\\vid5djr1txl.webm'"
      ]
     },
     "execution_count": 16,
     "metadata": {},
     "output_type": "execute_result"
    }
   ],
   "source": [
    "audio_file = tempfile.TemporaryFile(\n",
    "    dir='./',\n",
    "    prefix=\"vid\",\n",
    "    suffix='.webm',\n",
    "    delete=False\n",
    ")\n",
    "print('File created in the cwd')\n",
    "print(audio_file.name)\n",
    "\n",
    "file_path = audio_file.name\n",
    "# Get the directory (folder) of the file\n",
    "directory = os.path.dirname(file_path)\n",
    "\n",
    "# Get the filename (with extension) from the file path\n",
    "a_filename = os.path.basename(file_path)\n",
    "\n",
    "print(\"Directory:\", directory)\n",
    "print(\"Filename:\", a_filename)\n",
    "\n",
    "yt.streams.get_by_itag(251).download(output_path=directory,filename=filename)"
   ]
  },
  {
   "cell_type": "code",
   "execution_count": null,
   "metadata": {},
   "outputs": [],
   "source": [
    "# os.remove(filename)"
   ]
  },
  {
   "cell_type": "code",
   "execution_count": 17,
   "metadata": {},
   "outputs": [
    {
     "data": {
      "text/html": [
       "<pre style=\"white-space:pre;overflow-x:auto;line-height:normal;font-family:Menlo,'DejaVu Sans Mono',consolas,'Courier New',monospace\">Error: <span style=\"color: #008000; text-decoration-color: #008000\">'video_fps'</span>\n",
       "</pre>\n"
      ],
      "text/plain": [
       "Error: \u001b[32m'video_fps'\u001b[0m\n"
      ]
     },
     "metadata": {},
     "output_type": "display_data"
    },
    {
     "data": {
      "text/html": [
       "<pre style=\"white-space:pre;overflow-x:auto;line-height:normal;font-family:Menlo,'DejaVu Sans Mono',consolas,'Courier New',monospace\">Video metadata is missing required keys.\n",
       "</pre>\n"
      ],
      "text/plain": [
       "Video metadata is missing required keys.\n"
      ]
     },
     "metadata": {},
     "output_type": "display_data"
    },
    {
     "name": "stderr",
     "output_type": "stream",
     "text": [
      "Traceback (most recent call last):\n",
      "  File \"C:\\Users\\NEEVEN PRADHAPH\\AppData\\Local\\Temp\\ipykernel_19140\\2277148748.py\", line 7, in combine_video_audio\n",
      "    video_clip = VideoFileClip(video_path)\n",
      "  File \"d:\\TryOn\\DownTube\\.venv\\lib\\site-packages\\moviepy\\video\\io\\VideoFileClip.py\", line 88, in __init__\n",
      "    self.reader = FFMPEG_VideoReader(filename, pix_fmt=pix_fmt,\n",
      "  File \"d:\\TryOn\\DownTube\\.venv\\lib\\site-packages\\moviepy\\video\\io\\ffmpeg_reader.py\", line 37, in __init__\n",
      "    self.fps = infos['video_fps']\n",
      "KeyError: 'video_fps'\n"
     ]
    }
   ],
   "source": [
    "from moviepy.editor import VideoFileClip, AudioFileClip\n",
    "import traceback\n",
    "\n",
    "def combine_video_audio(video_path, audio_path, output_path):\n",
    "    try:\n",
    "        # Load the video and audio files\n",
    "        video_clip = VideoFileClip(video_path)\n",
    "        audio_clip = AudioFileClip(audio_path)\n",
    "\n",
    "        # Get metadata of video file\n",
    "        video_fps = video_clip.fps\n",
    "        video_size = video_clip.size\n",
    "        video_rotation = video_clip.rotation\n",
    "\n",
    "        # Set the audio of the video clip to the loaded audio clip\n",
    "        video_clip = video_clip.set_audio(audio_clip)\n",
    "\n",
    "        # Write the combined video with audio to a new file\n",
    "        video_clip.write_videofile(output_path, codec=\"libx264\", audio_codec=\"aac\")\n",
    "\n",
    "        # Close the clips\n",
    "        video_clip.close()\n",
    "        audio_clip.close()\n",
    "\n",
    "    except KeyError as e:\n",
    "        # Handle KeyError\n",
    "        print(f\"Error: {e}\")\n",
    "        print(\"Video metadata is missing required keys.\")\n",
    "        traceback.print_exc()  # Print traceback for debugging\n",
    "\n",
    "if __name__ == \"__main__\":\n",
    "    video_path = filename\n",
    "    audio_path = a_filename\n",
    "    output_path = \"output_combined_moviepy.mp4\"\n",
    "\n",
    "    combine_video_audio(video_path, audio_path, output_path)\n"
   ]
  },
  {
   "cell_type": "code",
   "execution_count": null,
   "metadata": {},
   "outputs": [
    {
     "name": "stdout",
     "output_type": "stream",
     "text": [
      "Note: you may need to restart the kernel to use updated packages.\n"
     ]
    },
    {
     "name": "stderr",
     "output_type": "stream",
     "text": [
      "ERROR: Could not find a version that satisfies the requirement cv2 (from versions: none)\n",
      "ERROR: No matching distribution found for cv2\n",
      "\n",
      "[notice] A new release of pip available: 22.3.1 -> 24.0\n",
      "[notice] To update, run: python.exe -m pip install --upgrade pip\n"
     ]
    }
   ],
   "source": [
    "pip install cv2"
   ]
  },
  {
   "cell_type": "code",
   "execution_count": null,
   "metadata": {},
   "outputs": [
    {
     "ename": "NameError",
     "evalue": "name 'cv' is not defined",
     "output_type": "error",
     "traceback": [
      "\u001b[1;31m---------------------------------------------------------------------------\u001b[0m",
      "\u001b[1;31mNameError\u001b[0m                                 Traceback (most recent call last)",
      "Cell \u001b[1;32mIn[4], line 45\u001b[0m\n\u001b[0;32m     42\u001b[0m audio_path \u001b[38;5;241m=\u001b[39m \u001b[38;5;124m\"\u001b[39m\u001b[38;5;124mvidjcfxfhku.webm\u001b[39m\u001b[38;5;124m\"\u001b[39m\n\u001b[0;32m     43\u001b[0m output_path \u001b[38;5;241m=\u001b[39m \u001b[38;5;124m\"\u001b[39m\u001b[38;5;124moutput_combined.mp4\u001b[39m\u001b[38;5;124m\"\u001b[39m\n\u001b[1;32m---> 45\u001b[0m \u001b[43mcombine_video_audio\u001b[49m\u001b[43m(\u001b[49m\u001b[43mvideo_path\u001b[49m\u001b[43m,\u001b[49m\u001b[43m \u001b[49m\u001b[43maudio_path\u001b[49m\u001b[43m,\u001b[49m\u001b[43m \u001b[49m\u001b[43moutput_path\u001b[49m\u001b[43m)\u001b[49m\n",
      "Cell \u001b[1;32mIn[4], line 10\u001b[0m, in \u001b[0;36mcombine_video_audio\u001b[1;34m(video_path, audio_path, output_path)\u001b[0m\n\u001b[0;32m      8\u001b[0m frame_height \u001b[38;5;241m=\u001b[39m \u001b[38;5;28mint\u001b[39m(video_capture\u001b[38;5;241m.\u001b[39mget(cv2\u001b[38;5;241m.\u001b[39mCAP_PROP_FRAME_HEIGHT))\n\u001b[0;32m      9\u001b[0m fps \u001b[38;5;241m=\u001b[39m \u001b[38;5;28mint\u001b[39m(video_capture\u001b[38;5;241m.\u001b[39mget(cv2\u001b[38;5;241m.\u001b[39mCAP_PROP_FPS))\n\u001b[1;32m---> 10\u001b[0m total_frames \u001b[38;5;241m=\u001b[39m \u001b[38;5;28mint\u001b[39m(video_capture\u001b[38;5;241m.\u001b[39mget(\u001b[43mcv\u001b[49m\u001b[38;5;241m.\u001b[39mCAP_PROP_FRAME_COUNT))\n\u001b[0;32m     12\u001b[0m \u001b[38;5;66;03m# Read audio\u001b[39;00m\n\u001b[0;32m     13\u001b[0m audio_capture \u001b[38;5;241m=\u001b[39m cv2\u001b[38;5;241m.\u001b[39mVideoCapture(audio_path)\n",
      "\u001b[1;31mNameError\u001b[0m: name 'cv' is not defined"
     ]
    }
   ],
   "source": [
    "import cv2\n",
    "import numpy as np\n",
    "\n",
    "def combine_video_audio(video_path, audio_path, output_path):\n",
    "    # Read video\n",
    "    video_capture = cv2.VideoCapture(video_path)\n",
    "    frame_width = int(video_capture.get(cv2.CAP_PROP_FRAME_WIDTH))\n",
    "    frame_height = int(video_capture.get(cv2.CAP_PROP_FRAME_HEIGHT))\n",
    "    fps = int(video_capture.get(cv2.CAP_PROP_FPS))\n",
    "    total_frames = int(video_capture.get(cv.CAP_PROP_FRAME_COUNT))\n",
    "\n",
    "    # Read audio\n",
    "    audio_capture = cv2.VideoCapture(audio_path)\n",
    "    sample_rate = int(audio_capture.get(cv2.CAP_PROP_FRAME_WIDTH))\n",
    "    num_channels = int(audio_capture.get(cv2.CAP_PROP_CHANNEL_COUNT))\n",
    "\n",
    "    # FourCC code for video codec\n",
    "    fourcc = cv2.VideoWriter_fourcc(*'mp4v')\n",
    "\n",
    "    # Create video writer object\n",
    "    video_writer = cv2.VideoWriter(output_path, fourcc, fps, (frame_width, frame_height))\n",
    "\n",
    "    # Loop through each frame in the video\n",
    "    while True:\n",
    "        ret, frame = video_capture.read()\n",
    "        if not ret:\n",
    "            break\n",
    "        \n",
    "        # Write frame to video writer\n",
    "        video_writer.write(frame)\n",
    "\n",
    "    # Release video capture and writer\n",
    "    video_capture.release()\n",
    "    video_writer.release()\n",
    "\n",
    "    # Combine audio and video using ffmpeg\n",
    "    cmd = f\"ffmpeg -i {output_path} -i {audio_path} -c:v copy -c:a aac -strict experimental -map 0:v:0 -map 1:a:0 -y final_video.mp4\"\n",
    "    subprocess.call(cmd, shell=True)\n",
    "\n",
    "if __name__ == \"__main__\":\n",
    "    video_path = \"vid99d5nto3.webm\"\n",
    "    audio_path = \"vidjcfxfhku.webm\"\n",
    "    output_path = \"output_combined.mp4\"\n",
    "\n",
    "    combine_video_audio(video_path, audio_path, output_path)\n"
   ]
  },
  {
   "cell_type": "code",
   "execution_count": 18,
   "metadata": {},
   "outputs": [
    {
     "name": "stderr",
     "output_type": "stream",
     "text": [
      "Format matroska,webm detected only with low score of 1, misdetection possible!\n",
      "EBML header parsing failed\n"
     ]
    },
    {
     "ename": "InvalidDataError",
     "evalue": "[Errno 1094995529] Invalid data found when processing input: 'vidxahre71k.webm'; last error log: [matroska,webm] EBML header parsing failed",
     "output_type": "error",
     "traceback": [
      "\u001b[1;31m---------------------------------------------------------------------------\u001b[0m",
      "\u001b[1;31mInvalidDataError\u001b[0m                          Traceback (most recent call last)",
      "Cell \u001b[1;32mIn[18], line 37\u001b[0m\n\u001b[0;32m     34\u001b[0m audio_path \u001b[38;5;241m=\u001b[39m a_filename\n\u001b[0;32m     35\u001b[0m output_path \u001b[38;5;241m=\u001b[39m \u001b[38;5;124m\"\u001b[39m\u001b[38;5;124moutput_combined.mp4\u001b[39m\u001b[38;5;124m\"\u001b[39m\n\u001b[1;32m---> 37\u001b[0m \u001b[43mcombine_video_audio\u001b[49m\u001b[43m(\u001b[49m\u001b[43mvideo_path\u001b[49m\u001b[43m,\u001b[49m\u001b[43m \u001b[49m\u001b[43maudio_path\u001b[49m\u001b[43m,\u001b[49m\u001b[43m \u001b[49m\u001b[43moutput_path\u001b[49m\u001b[43m)\u001b[49m\n",
      "Cell \u001b[1;32mIn[18], line 6\u001b[0m, in \u001b[0;36mcombine_video_audio\u001b[1;34m(video_path, audio_path, output_path)\u001b[0m\n\u001b[0;32m      3\u001b[0m \u001b[38;5;28;01mdef\u001b[39;00m \u001b[38;5;21mcombine_video_audio\u001b[39m(video_path, audio_path, output_path):\n\u001b[0;32m      4\u001b[0m     \u001b[38;5;66;03m# Open video and audio files\u001b[39;00m\n\u001b[0;32m      5\u001b[0m     video_container \u001b[38;5;241m=\u001b[39m av\u001b[38;5;241m.\u001b[39mopen(video_path)\n\u001b[1;32m----> 6\u001b[0m     audio_container \u001b[38;5;241m=\u001b[39m \u001b[43mav\u001b[49m\u001b[38;5;241;43m.\u001b[39;49m\u001b[43mopen\u001b[49m\u001b[43m(\u001b[49m\u001b[43maudio_path\u001b[49m\u001b[43m)\u001b[49m\n\u001b[0;32m      8\u001b[0m     \u001b[38;5;66;03m# Create output container\u001b[39;00m\n\u001b[0;32m      9\u001b[0m     output_container \u001b[38;5;241m=\u001b[39m av\u001b[38;5;241m.\u001b[39mopen(output_path, \u001b[38;5;124m'\u001b[39m\u001b[38;5;124mw\u001b[39m\u001b[38;5;124m'\u001b[39m)\n",
      "File \u001b[1;32mav\\\\container\\\\core.pyx:401\u001b[0m, in \u001b[0;36mav.container.core.open\u001b[1;34m()\u001b[0m\n",
      "File \u001b[1;32mav\\\\container\\\\core.pyx:265\u001b[0m, in \u001b[0;36mav.container.core.Container.__cinit__\u001b[1;34m()\u001b[0m\n",
      "File \u001b[1;32mav\\\\container\\\\core.pyx:285\u001b[0m, in \u001b[0;36mav.container.core.Container.err_check\u001b[1;34m()\u001b[0m\n",
      "File \u001b[1;32mav\\\\error.pyx:336\u001b[0m, in \u001b[0;36mav.error.err_check\u001b[1;34m()\u001b[0m\n",
      "\u001b[1;31mInvalidDataError\u001b[0m: [Errno 1094995529] Invalid data found when processing input: 'vidxahre71k.webm'; last error log: [matroska,webm] EBML header parsing failed"
     ]
    }
   ],
   "source": [
    "import av\n",
    "\n",
    "def combine_video_audio(video_path, audio_path, output_path):\n",
    "    # Open video and audio files\n",
    "    video_container = av.open(video_path)\n",
    "    audio_container = av.open(audio_path)\n",
    "\n",
    "    # Create output container\n",
    "    output_container = av.open(output_path, 'w')\n",
    "\n",
    "    # Add video stream to output container\n",
    "    video_stream = output_container.add_stream(template=video_container.streams.video[0])\n",
    "\n",
    "    # Add audio stream to output container\n",
    "    audio_stream = output_container.add_stream(template=audio_container.streams.audio[0])\n",
    "\n",
    "    # Mux video frames\n",
    "    for frame in video_container.decode(video=0):\n",
    "        packet = video_stream.encode(frame)\n",
    "        output_container.mux(packet)\n",
    "\n",
    "    # Mux audio frames\n",
    "    for frame in audio_container.decode(audio=0):\n",
    "        packet = audio_stream.encode(frame)\n",
    "        output_container.mux(packet)\n",
    "\n",
    "    # Close containers\n",
    "    output_container.close()\n",
    "    video_container.close()\n",
    "    audio_container.close()\n",
    "\n",
    "if __name__ == \"__main__\":\n",
    "    video_path = filename\n",
    "    audio_path = a_filename\n",
    "    output_path = \"output_combined.mp4\"\n",
    "\n",
    "    combine_video_audio(video_path, audio_path, output_path)\n"
   ]
  }
 ],
 "metadata": {
  "kernelspec": {
   "display_name": ".venv",
   "language": "python",
   "name": "python3"
  },
  "language_info": {
   "codemirror_mode": {
    "name": "ipython",
    "version": 3
   },
   "file_extension": ".py",
   "mimetype": "text/x-python",
   "name": "python",
   "nbconvert_exporter": "python",
   "pygments_lexer": "ipython3",
   "version": "3.10.9"
  }
 },
 "nbformat": 4,
 "nbformat_minor": 2
}
