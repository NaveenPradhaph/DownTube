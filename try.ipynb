{
 "cells": [
  {
   "cell_type": "markdown",
   "metadata": {},
   "source": [
    "<h1>DOWNTUBE</h1>"
   ]
  },
  {
   "cell_type": "code",
   "execution_count": 20,
   "metadata": {},
   "outputs": [],
   "source": [
    "import inquirer\n",
    "from pyfiglet import Figlet\n",
    "from pytube.__main__ import YouTube\n",
    "from rich import print\n",
    "from pytube import Stream\n",
    "import time\n",
    "import sys\n",
    "import subprocess\n",
    "import shutil\n"
   ]
  },
  {
   "cell_type": "code",
   "execution_count": 21,
   "metadata": {},
   "outputs": [
    {
     "data": {
      "text/html": [
       "<pre style=\"white-space:pre;overflow-x:auto;line-height:normal;font-family:Menlo,'DejaVu Sans Mono',consolas,'Courier New',monospace\"><span style=\"color: #800000; text-decoration-color: #800000\"> _____                      _         _          </span>\n",
       "<span style=\"color: #800000; text-decoration-color: #800000\">|  __ \\                    | |       | |         </span>\n",
       "<span style=\"color: #800000; text-decoration-color: #800000\">| |  | | _____      ___ __ | |_ _   _| |__   ___ </span>\n",
       "<span style=\"color: #800000; text-decoration-color: #800000\">| |  | |/ _ \\ \\ /\\ / / </span><span style=\"color: #800000; text-decoration-color: #800000\">'_ \\| __| | | | '</span><span style=\"color: #800000; text-decoration-color: #800000\">_ \\ / _ \\</span>\n",
       "<span style=\"color: #800000; text-decoration-color: #800000\">| |__| | </span><span style=\"color: #800000; text-decoration-color: #800000; font-weight: bold\">(</span><span style=\"color: #800000; text-decoration-color: #800000\">_</span><span style=\"color: #800000; text-decoration-color: #800000; font-weight: bold\">)</span><span style=\"color: #800000; text-decoration-color: #800000\"> \\ V  V /| | | | |_| |_| | |_</span><span style=\"color: #800000; text-decoration-color: #800000; font-weight: bold\">)</span><span style=\"color: #800000; text-decoration-color: #800000\"> |  __/</span>\n",
       "<span style=\"color: #800000; text-decoration-color: #800000\">|_____/ \\___/ \\_/\\_/ |_| |_|\\__|\\__,_|_.__/ \\___|</span>\n",
       "<span style=\"color: #800000; text-decoration-color: #800000\">                                                 </span>\n",
       "<span style=\"color: #800000; text-decoration-color: #800000\">                                                 </span>\n",
       "\n",
       "</pre>\n"
      ],
      "text/plain": [
       "\u001b[31m _____                      _         _          \u001b[0m\n",
       "\u001b[31m|  __ \\                    | |       | |         \u001b[0m\n",
       "\u001b[31m| |  | | _____      ___ __ | |_ _   _| |__   ___ \u001b[0m\n",
       "\u001b[31m| |  | |\u001b[0m\u001b[31m/\u001b[0m\u001b[31m _ \\ \\ \u001b[0m\u001b[31m/\u001b[0m\u001b[31m\\ \u001b[0m\u001b[31m/\u001b[0m\u001b[31m \u001b[0m\u001b[31m/\u001b[0m\u001b[31m \u001b[0m\u001b[31m'_ \\| __| | | | '\u001b[0m\u001b[31m_ \\ \u001b[0m\u001b[31m/\u001b[0m\u001b[31m _ \\\u001b[0m\n",
       "\u001b[31m| |__| | \u001b[0m\u001b[1;31m(\u001b[0m\u001b[31m_\u001b[0m\u001b[1;31m)\u001b[0m\u001b[31m \\ V  V \u001b[0m\u001b[31m/\u001b[0m\u001b[31m| | | | |_| |_| | |_\u001b[0m\u001b[1;31m)\u001b[0m\u001b[31m |  __/\u001b[0m\n",
       "\u001b[31m|_____/ \\___/ \\_/\\_/ |_| |_|\\__|\\__,_|_.__/ \\___|\u001b[0m\n",
       "\u001b[31m                                                 \u001b[0m\n",
       "\u001b[31m                                                 \u001b[0m\n",
       "\n"
      ]
     },
     "metadata": {},
     "output_type": "display_data"
    }
   ],
   "source": [
    "figlet = Figlet(font='big')\n",
    "print(f\"[red]{figlet.renderText('Downtube')}[/red]\")"
   ]
  },
  {
   "cell_type": "code",
   "execution_count": 22,
   "metadata": {},
   "outputs": [],
   "source": [
    "import os\n",
    "default_videos_folder = os.path.expanduser(\"~/Videos\")\n",
    "folder_name = \"DownTube\"\n",
    "temp_name = \"Temp\"\n",
    "video_name = \"Video\"\n",
    "audio_name = \"Audio\"\n",
    "subtitle_name = \"Subtitle\"\n",
    "download_name = \"Downloads\"\n",
    "# Construct the full path\n",
    "\n",
    "full_path = os.path.join(default_videos_folder, folder_name)\n",
    "\n",
    "# Check if the folder exists\n",
    "if not os.path.exists(full_path):\n",
    "    try:\n",
    "        os.makedirs(full_path)\n",
    "        print(f\"Folder '{folder_name}' created successfully at {full_path}\")\n",
    "    except Exception as e:\n",
    "        print(f\"An error occurred: {e}\")\n",
    "\n",
    "temp_path = os.path.join(full_path, temp_name)  # Create a temporary directory within the main one\n",
    "if not os.path.exists(temp_path):\n",
    "    try:\n",
    "        os.makedirs(temp_path)\n",
    "        print(f\"Folder '{temp_name}' created successfully at {temp_path}\")\n",
    "        subprocess.run([\"attrib\",\"+H\",temp_path],check=True)\n",
    "    except Exception as e:\n",
    "        print(f\"An error occurred: {e}\")\n",
    "\n",
    "video_path = os.path.join(temp_path,video_name)\n",
    "if not os.path.exists(video_path):\n",
    "    try:\n",
    "        os.makedirs(video_path)\n",
    "        print(f\"Folder '{video_name}' created successfully at {video_path}\")\n",
    "        # subprocess.run([\"attrib\",\"+H\",\"myfile.txt\"],check=True)\n",
    "    except Exception as e:\n",
    "        print(f\"An error occurred: {e}\")\n",
    "\n",
    "audio_path = os.path.join(temp_path,audio_name)\n",
    "if not os.path.exists(audio_path):\n",
    "    try:\n",
    "        os.makedirs(audio_path)\n",
    "        print(f\"Folder '{audio_name}' created successfully at {audio_path}\")\n",
    "        # subprocess.run([\"attrib\",\"+H\",\"myfile.txt\"],check=True)\n",
    "    except Exception as e:\n",
    "        print(f\"An error occurred: {e}\")\n",
    "\n",
    "subtitle_path = os.path.join(temp_path,subtitle_name)\n",
    "if not os.path.exists(subtitle_path):\n",
    "    try:\n",
    "        os.makedirs(subtitle_path)\n",
    "        print(f\"Folder '{subtitle_name}' created successfully at {subtitle_path}\")\n",
    "        # subprocess.run([\"attrib\",\"+H\",\"myfile.txt\"],check=True)\n",
    "    except Exception as e:\n",
    "        print(f\"An error occurred: {e}\")"
   ]
  },
  {
   "cell_type": "code",
   "execution_count": 23,
   "metadata": {},
   "outputs": [],
   "source": [
    "video_url = \"https://youtu.be/MwtKJG_87fw?si=ysG17gJK52FsFny9\"\n",
    "url = 'https://youtu.be/gh3FyLT7WVg?list=RDgh3FyLT7WVg'\n",
    "url_supa = 'https://youtu.be/dU7GwCOgvNY?si=ovCJGbiQKdaFoVXm'"
   ]
  },
  {
   "cell_type": "code",
   "execution_count": 24,
   "metadata": {},
   "outputs": [],
   "source": [
    "yt = YouTube(url=url)\n",
    "video = yt.streams.filter(only_video=True)\n",
    "audio = yt.streams.filter(only_audio=True)"
   ]
  },
  {
   "cell_type": "code",
   "execution_count": 25,
   "metadata": {},
   "outputs": [],
   "source": [
    "resolution = dict()\n",
    "for x in video:\n",
    "        resolution[x.itag] = [x.resolution,x.fps,x.filesize_mb,x.mime_type]"
   ]
  },
  {
   "cell_type": "code",
   "execution_count": 26,
   "metadata": {},
   "outputs": [],
   "source": [
    "resolution = dict()\n",
    "for x in audio:\n",
    "        resolution[x.itag] = [x.mime_type,x.abr,x.filesize_mb]"
   ]
  },
  {
   "cell_type": "code",
   "execution_count": 27,
   "metadata": {},
   "outputs": [
    {
     "data": {
      "text/plain": [
       "{139: ['audio/mp4', '48kbps', 1.645],\n",
       " 140: ['audio/mp4', '128kbps', 4.362],\n",
       " 249: ['audio/webm', '50kbps', 1.711],\n",
       " 250: ['audio/webm', '70kbps', 2.226],\n",
       " 251: ['audio/webm', '160kbps', 4.339]}"
      ]
     },
     "execution_count": 27,
     "metadata": {},
     "output_type": "execute_result"
    }
   ],
   "source": [
    "resolution"
   ]
  },
  {
   "cell_type": "code",
   "execution_count": 28,
   "metadata": {},
   "outputs": [],
   "source": [
    "highest_quality_stream = None\n",
    "highest_bitrate = 0\n",
    "for stream in audio:\n",
    "    if stream.type == \"audio\":\n",
    "        bitrate = int(stream.abr.replace(\"kbps\", \"\"))\n",
    "        if bitrate > highest_bitrate:\n",
    "            highest_bitrate = bitrate\n",
    "            highest_quality_stream = stream"
   ]
  },
  {
   "cell_type": "code",
   "execution_count": 29,
   "metadata": {},
   "outputs": [
    {
     "data": {
      "text/plain": [
       "<Stream: itag=\"251\" mime_type=\"audio/webm\" abr=\"160kbps\" acodec=\"opus\" progressive=\"False\" type=\"audio\">"
      ]
     },
     "execution_count": 29,
     "metadata": {},
     "output_type": "execute_result"
    }
   ],
   "source": [
    "highest_quality_stream"
   ]
  },
  {
   "cell_type": "code",
   "execution_count": 30,
   "metadata": {},
   "outputs": [],
   "source": [
    "start_time = time.time()\n",
    "def display_progress_bar(\n",
    "    bytes_received: int, filesize: int, ch: str = \"▬\", scale: float = 0.55\n",
    ") -> None:\n",
    "    \"\"\"Display a simple, pretty progress bar.\n",
    "\n",
    "    Example:\n",
    "    ~~~~~~~~\n",
    "    PSY - GANGNAM STYLE(강남스타일) MV.mp4\n",
    "    ↳ |▬▬▬▬▬▬▬▬▬▬▬▬▬▬▬▬▬▬▬▬▬▬▬▬▬▬▬▬▬▬▬▬▬▬▬▬▬▬▬| 100.0%\n",
    "\n",
    "    :param int bytes_received:\n",
    "        The delta between the total file size (bytes) and bytes already\n",
    "        written to disk.\n",
    "    :param int filesize:\n",
    "        File size of the media stream in bytes.\n",
    "    :param str ch:\n",
    "        Character to use for presenting progress segment.\n",
    "    :param float scale:\n",
    "        Scale multiplier to reduce progress bar size.\n",
    "\n",
    "    \"\"\"\n",
    "    columns = shutil.get_terminal_size().columns\n",
    "    max_width = int(columns * scale)\n",
    "\n",
    "    filled = int(round(max_width * bytes_received / float(filesize)))\n",
    "    remaining = max_width - filled\n",
    "    progress_bar = ch * filled + \" \" * remaining\n",
    "    # \n",
    "    downloaded_size = f\"{bytes_received / (1024 * 1024):.2f}MB\"\n",
    "    total_size = f\"{filesize / (1024 * 1024):.2f}MB\"\n",
    "    elapsed_time = time.time() - start_time\n",
    "    download_speed = bytes_received / elapsed_time  # Bytes per second\n",
    "    time_left = (filesize - bytes_received) / download_speed\n",
    "    time_left_str = time.strftime(\"%H:%M:%S\", time.gmtime(time_left))\n",
    "    # \n",
    "    percent = round(100.0 * bytes_received / float(filesize), 1)\n",
    "    text = f\"↳|{progress_bar}| {percent}% - {downloaded_size}/{total_size} - {time_left_str} left\\r\"\n",
    "    sys.stdout.write(text)\n",
    "    sys.stdout.flush()\n"
   ]
  },
  {
   "cell_type": "code",
   "execution_count": 31,
   "metadata": {},
   "outputs": [],
   "source": [
    "def on_progress(\n",
    "    stream: Stream, chunk: bytes, bytes_remaining: int\n",
    ") -> None:  # pylint: disable=W0613\n",
    "    filesize = stream.filesize\n",
    "    bytes_received = filesize - bytes_remaining\n",
    "    display_progress_bar(bytes_received, filesize)\n",
    "\n"
   ]
  },
  {
   "cell_type": "code",
   "execution_count": 32,
   "metadata": {},
   "outputs": [],
   "source": [
    "v_path = yt.streams.get_by_itag(248).download(output_path=video_path)\n"
   ]
  },
  {
   "cell_type": "code",
   "execution_count": 33,
   "metadata": {},
   "outputs": [
    {
     "data": {
      "text/plain": [
       "'Kurchi Madathapetti.webm'"
      ]
     },
     "execution_count": 33,
     "metadata": {},
     "output_type": "execute_result"
    }
   ],
   "source": [
    "filename = yt.streams.get_by_itag(248).default_filename\n",
    "filename"
   ]
  },
  {
   "cell_type": "code",
   "execution_count": 34,
   "metadata": {},
   "outputs": [
    {
     "data": {
      "text/plain": [
       "'C:\\\\Users\\\\NEEVEN PRADHAPH/Videos\\\\DownTube\\\\Temp\\\\Video\\\\Kurchi Madathapetti.webm'"
      ]
     },
     "execution_count": 34,
     "metadata": {},
     "output_type": "execute_result"
    }
   ],
   "source": [
    "v_path"
   ]
  },
  {
   "cell_type": "code",
   "execution_count": 35,
   "metadata": {},
   "outputs": [
    {
     "data": {
      "text/plain": [
       "'C:\\\\Users\\\\NEEVEN PRADHAPH/Videos\\\\DownTube\\\\Temp\\\\Audio\\\\Kurchi Madathapetti.webm'"
      ]
     },
     "execution_count": 35,
     "metadata": {},
     "output_type": "execute_result"
    }
   ],
   "source": [
    "a_path = yt.streams.get_by_itag(251).download(output_path=audio_path)\n",
    "a_path"
   ]
  },
  {
   "cell_type": "code",
   "execution_count": 36,
   "metadata": {},
   "outputs": [
    {
     "name": "stdout",
     "output_type": "stream",
     "text": [
      "Moviepy - Building video C:\\Users\\NEEVEN PRADHAPH/Videos\\DownTube\\Kurchi Madathapetti.mp4.\n",
      "MoviePy - Writing audio in Kurchi MadathapettiTEMP_MPY_wvf_snd.mp4\n"
     ]
    },
    {
     "name": "stderr",
     "output_type": "stream",
     "text": [
      "                                                                      \r"
     ]
    },
    {
     "name": "stdout",
     "output_type": "stream",
     "text": [
      "MoviePy - Done.\n",
      "Moviepy - Writing video C:\\Users\\NEEVEN PRADHAPH/Videos\\DownTube\\Kurchi Madathapetti.mp4\n",
      "\n"
     ]
    },
    {
     "name": "stderr",
     "output_type": "stream",
     "text": [
      "t:   7%|▋         | 505/6780 [00:09<01:55, 54.10it/s, now=None]"
     ]
    },
    {
     "ename": "KeyboardInterrupt",
     "evalue": "",
     "output_type": "error",
     "traceback": [
      "\u001b[1;31m---------------------------------------------------------------------------\u001b[0m",
      "\u001b[1;31mKeyboardInterrupt\u001b[0m                         Traceback (most recent call last)",
      "Cell \u001b[1;32mIn[36], line 37\u001b[0m\n\u001b[0;32m     34\u001b[0m audio_path \u001b[38;5;241m=\u001b[39m a_path\n\u001b[0;32m     35\u001b[0m output_path \u001b[38;5;241m=\u001b[39m full_path\u001b[38;5;241m+\u001b[39m\u001b[38;5;124m'\u001b[39m\u001b[38;5;130;01m\\\\\u001b[39;00m\u001b[38;5;124m'\u001b[39m\u001b[38;5;241m+\u001b[39mos\u001b[38;5;241m.\u001b[39mpath\u001b[38;5;241m.\u001b[39msplitext(filename)[\u001b[38;5;241m0\u001b[39m]\u001b[38;5;241m+\u001b[39m\u001b[38;5;124m'\u001b[39m\u001b[38;5;124m.mp4\u001b[39m\u001b[38;5;124m'\u001b[39m\n\u001b[1;32m---> 37\u001b[0m \u001b[43mcombine_video_audio\u001b[49m\u001b[43m(\u001b[49m\u001b[43mvideo_path\u001b[49m\u001b[43m,\u001b[49m\u001b[43m \u001b[49m\u001b[43maudio_path\u001b[49m\u001b[43m,\u001b[49m\u001b[43m \u001b[49m\u001b[43moutput_path\u001b[49m\u001b[43m)\u001b[49m\n\u001b[0;32m     38\u001b[0m \u001b[38;5;28mprint\u001b[39m(output_path)\n",
      "Cell \u001b[1;32mIn[36], line 20\u001b[0m, in \u001b[0;36mcombine_video_audio\u001b[1;34m(video_path, audio_path, output_path)\u001b[0m\n\u001b[0;32m     17\u001b[0m video_clip \u001b[38;5;241m=\u001b[39m video_clip\u001b[38;5;241m.\u001b[39mset_audio(audio_clip)\n\u001b[0;32m     19\u001b[0m \u001b[38;5;66;03m# Write the combined video with audio to a new file\u001b[39;00m\n\u001b[1;32m---> 20\u001b[0m \u001b[43mvideo_clip\u001b[49m\u001b[38;5;241;43m.\u001b[39;49m\u001b[43mwrite_videofile\u001b[49m\u001b[43m(\u001b[49m\u001b[43moutput_path\u001b[49m\u001b[43m,\u001b[49m\u001b[43m \u001b[49m\u001b[43mcodec\u001b[49m\u001b[38;5;241;43m=\u001b[39;49m\u001b[38;5;124;43m\"\u001b[39;49m\u001b[38;5;124;43mlibx264\u001b[39;49m\u001b[38;5;124;43m\"\u001b[39;49m\u001b[43m,\u001b[49m\u001b[43m \u001b[49m\u001b[43maudio_codec\u001b[49m\u001b[38;5;241;43m=\u001b[39;49m\u001b[38;5;124;43m\"\u001b[39;49m\u001b[38;5;124;43maac\u001b[39;49m\u001b[38;5;124;43m\"\u001b[39;49m\u001b[43m)\u001b[49m\n\u001b[0;32m     22\u001b[0m \u001b[38;5;66;03m# Close the clips\u001b[39;00m\n\u001b[0;32m     23\u001b[0m video_clip\u001b[38;5;241m.\u001b[39mclose()\n",
      "File \u001b[1;32m<decorator-gen-73>:2\u001b[0m, in \u001b[0;36mwrite_videofile\u001b[1;34m(self, filename, fps, codec, bitrate, audio, audio_fps, preset, audio_nbytes, audio_codec, audio_bitrate, audio_bufsize, temp_audiofile, rewrite_audio, remove_temp, write_logfile, verbose, threads, ffmpeg_params, logger)\u001b[0m\n",
      "File \u001b[1;32md:\\TryOn\\DownTube\\.venv\\lib\\site-packages\\moviepy\\decorators.py:54\u001b[0m, in \u001b[0;36mrequires_duration\u001b[1;34m(f, clip, *a, **k)\u001b[0m\n\u001b[0;32m     52\u001b[0m     \u001b[38;5;28;01mraise\u001b[39;00m \u001b[38;5;167;01mValueError\u001b[39;00m(\u001b[38;5;124m\"\u001b[39m\u001b[38;5;124mAttribute \u001b[39m\u001b[38;5;124m'\u001b[39m\u001b[38;5;124mduration\u001b[39m\u001b[38;5;124m'\u001b[39m\u001b[38;5;124m not set\u001b[39m\u001b[38;5;124m\"\u001b[39m)\n\u001b[0;32m     53\u001b[0m \u001b[38;5;28;01melse\u001b[39;00m:\n\u001b[1;32m---> 54\u001b[0m     \u001b[38;5;28;01mreturn\u001b[39;00m f(clip, \u001b[38;5;241m*\u001b[39ma, \u001b[38;5;241m*\u001b[39m\u001b[38;5;241m*\u001b[39mk)\n",
      "File \u001b[1;32m<decorator-gen-72>:2\u001b[0m, in \u001b[0;36mwrite_videofile\u001b[1;34m(self, filename, fps, codec, bitrate, audio, audio_fps, preset, audio_nbytes, audio_codec, audio_bitrate, audio_bufsize, temp_audiofile, rewrite_audio, remove_temp, write_logfile, verbose, threads, ffmpeg_params, logger)\u001b[0m\n",
      "File \u001b[1;32md:\\TryOn\\DownTube\\.venv\\lib\\site-packages\\moviepy\\decorators.py:135\u001b[0m, in \u001b[0;36muse_clip_fps_by_default\u001b[1;34m(f, clip, *a, **k)\u001b[0m\n\u001b[0;32m    130\u001b[0m new_a \u001b[38;5;241m=\u001b[39m [fun(arg) \u001b[38;5;28;01mif\u001b[39;00m (name\u001b[38;5;241m==\u001b[39m\u001b[38;5;124m'\u001b[39m\u001b[38;5;124mfps\u001b[39m\u001b[38;5;124m'\u001b[39m) \u001b[38;5;28;01melse\u001b[39;00m arg\n\u001b[0;32m    131\u001b[0m          \u001b[38;5;28;01mfor\u001b[39;00m (arg, name) \u001b[38;5;129;01min\u001b[39;00m \u001b[38;5;28mzip\u001b[39m(a, names)]\n\u001b[0;32m    132\u001b[0m new_kw \u001b[38;5;241m=\u001b[39m {k: fun(v) \u001b[38;5;28;01mif\u001b[39;00m k\u001b[38;5;241m==\u001b[39m\u001b[38;5;124m'\u001b[39m\u001b[38;5;124mfps\u001b[39m\u001b[38;5;124m'\u001b[39m \u001b[38;5;28;01melse\u001b[39;00m v\n\u001b[0;32m    133\u001b[0m          \u001b[38;5;28;01mfor\u001b[39;00m (k,v) \u001b[38;5;129;01min\u001b[39;00m k\u001b[38;5;241m.\u001b[39mitems()}\n\u001b[1;32m--> 135\u001b[0m \u001b[38;5;28;01mreturn\u001b[39;00m f(clip, \u001b[38;5;241m*\u001b[39mnew_a, \u001b[38;5;241m*\u001b[39m\u001b[38;5;241m*\u001b[39mnew_kw)\n",
      "File \u001b[1;32m<decorator-gen-71>:2\u001b[0m, in \u001b[0;36mwrite_videofile\u001b[1;34m(self, filename, fps, codec, bitrate, audio, audio_fps, preset, audio_nbytes, audio_codec, audio_bitrate, audio_bufsize, temp_audiofile, rewrite_audio, remove_temp, write_logfile, verbose, threads, ffmpeg_params, logger)\u001b[0m\n",
      "File \u001b[1;32md:\\TryOn\\DownTube\\.venv\\lib\\site-packages\\moviepy\\decorators.py:22\u001b[0m, in \u001b[0;36mconvert_masks_to_RGB\u001b[1;34m(f, clip, *a, **k)\u001b[0m\n\u001b[0;32m     20\u001b[0m \u001b[38;5;28;01mif\u001b[39;00m clip\u001b[38;5;241m.\u001b[39mismask:\n\u001b[0;32m     21\u001b[0m     clip \u001b[38;5;241m=\u001b[39m clip\u001b[38;5;241m.\u001b[39mto_RGB()\n\u001b[1;32m---> 22\u001b[0m \u001b[38;5;28;01mreturn\u001b[39;00m f(clip, \u001b[38;5;241m*\u001b[39ma, \u001b[38;5;241m*\u001b[39m\u001b[38;5;241m*\u001b[39mk)\n",
      "File \u001b[1;32md:\\TryOn\\DownTube\\.venv\\lib\\site-packages\\moviepy\\video\\VideoClip.py:300\u001b[0m, in \u001b[0;36mVideoClip.write_videofile\u001b[1;34m(self, filename, fps, codec, bitrate, audio, audio_fps, preset, audio_nbytes, audio_codec, audio_bitrate, audio_bufsize, temp_audiofile, rewrite_audio, remove_temp, write_logfile, verbose, threads, ffmpeg_params, logger)\u001b[0m\n\u001b[0;32m    292\u001b[0m \u001b[38;5;28;01mif\u001b[39;00m make_audio:\n\u001b[0;32m    293\u001b[0m     \u001b[38;5;28mself\u001b[39m\u001b[38;5;241m.\u001b[39maudio\u001b[38;5;241m.\u001b[39mwrite_audiofile(audiofile, audio_fps,\n\u001b[0;32m    294\u001b[0m                                audio_nbytes, audio_bufsize,\n\u001b[0;32m    295\u001b[0m                                audio_codec, bitrate\u001b[38;5;241m=\u001b[39maudio_bitrate,\n\u001b[0;32m    296\u001b[0m                                write_logfile\u001b[38;5;241m=\u001b[39mwrite_logfile,\n\u001b[0;32m    297\u001b[0m                                verbose\u001b[38;5;241m=\u001b[39mverbose,\n\u001b[0;32m    298\u001b[0m                                logger\u001b[38;5;241m=\u001b[39mlogger)\n\u001b[1;32m--> 300\u001b[0m \u001b[43mffmpeg_write_video\u001b[49m\u001b[43m(\u001b[49m\u001b[38;5;28;43mself\u001b[39;49m\u001b[43m,\u001b[49m\u001b[43m \u001b[49m\u001b[43mfilename\u001b[49m\u001b[43m,\u001b[49m\u001b[43m \u001b[49m\u001b[43mfps\u001b[49m\u001b[43m,\u001b[49m\u001b[43m \u001b[49m\u001b[43mcodec\u001b[49m\u001b[43m,\u001b[49m\n\u001b[0;32m    301\u001b[0m \u001b[43m                   \u001b[49m\u001b[43mbitrate\u001b[49m\u001b[38;5;241;43m=\u001b[39;49m\u001b[43mbitrate\u001b[49m\u001b[43m,\u001b[49m\n\u001b[0;32m    302\u001b[0m \u001b[43m                   \u001b[49m\u001b[43mpreset\u001b[49m\u001b[38;5;241;43m=\u001b[39;49m\u001b[43mpreset\u001b[49m\u001b[43m,\u001b[49m\n\u001b[0;32m    303\u001b[0m \u001b[43m                   \u001b[49m\u001b[43mwrite_logfile\u001b[49m\u001b[38;5;241;43m=\u001b[39;49m\u001b[43mwrite_logfile\u001b[49m\u001b[43m,\u001b[49m\n\u001b[0;32m    304\u001b[0m \u001b[43m                   \u001b[49m\u001b[43maudiofile\u001b[49m\u001b[38;5;241;43m=\u001b[39;49m\u001b[43maudiofile\u001b[49m\u001b[43m,\u001b[49m\n\u001b[0;32m    305\u001b[0m \u001b[43m                   \u001b[49m\u001b[43mverbose\u001b[49m\u001b[38;5;241;43m=\u001b[39;49m\u001b[43mverbose\u001b[49m\u001b[43m,\u001b[49m\u001b[43m \u001b[49m\u001b[43mthreads\u001b[49m\u001b[38;5;241;43m=\u001b[39;49m\u001b[43mthreads\u001b[49m\u001b[43m,\u001b[49m\n\u001b[0;32m    306\u001b[0m \u001b[43m                   \u001b[49m\u001b[43mffmpeg_params\u001b[49m\u001b[38;5;241;43m=\u001b[39;49m\u001b[43mffmpeg_params\u001b[49m\u001b[43m,\u001b[49m\n\u001b[0;32m    307\u001b[0m \u001b[43m                   \u001b[49m\u001b[43mlogger\u001b[49m\u001b[38;5;241;43m=\u001b[39;49m\u001b[43mlogger\u001b[49m\u001b[43m)\u001b[49m\n\u001b[0;32m    309\u001b[0m \u001b[38;5;28;01mif\u001b[39;00m remove_temp \u001b[38;5;129;01mand\u001b[39;00m make_audio:\n\u001b[0;32m    310\u001b[0m     \u001b[38;5;28;01mif\u001b[39;00m os\u001b[38;5;241m.\u001b[39mpath\u001b[38;5;241m.\u001b[39mexists(audiofile):\n",
      "File \u001b[1;32md:\\TryOn\\DownTube\\.venv\\lib\\site-packages\\moviepy\\video\\io\\ffmpeg_writer.py:220\u001b[0m, in \u001b[0;36mffmpeg_write_video\u001b[1;34m(clip, filename, fps, codec, bitrate, preset, withmask, write_logfile, audiofile, verbose, threads, ffmpeg_params, logger)\u001b[0m\n\u001b[0;32m    213\u001b[0m \u001b[38;5;28;01mwith\u001b[39;00m FFMPEG_VideoWriter(filename, clip\u001b[38;5;241m.\u001b[39msize, fps, codec \u001b[38;5;241m=\u001b[39m codec,\n\u001b[0;32m    214\u001b[0m                             preset\u001b[38;5;241m=\u001b[39mpreset, bitrate\u001b[38;5;241m=\u001b[39mbitrate, logfile\u001b[38;5;241m=\u001b[39mlogfile,\n\u001b[0;32m    215\u001b[0m                             audiofile\u001b[38;5;241m=\u001b[39maudiofile, threads\u001b[38;5;241m=\u001b[39mthreads,\n\u001b[0;32m    216\u001b[0m                             ffmpeg_params\u001b[38;5;241m=\u001b[39mffmpeg_params) \u001b[38;5;28;01mas\u001b[39;00m writer:\n\u001b[0;32m    218\u001b[0m     nframes \u001b[38;5;241m=\u001b[39m \u001b[38;5;28mint\u001b[39m(clip\u001b[38;5;241m.\u001b[39mduration\u001b[38;5;241m*\u001b[39mfps)\n\u001b[1;32m--> 220\u001b[0m     \u001b[38;5;28;01mfor\u001b[39;00m t,frame \u001b[38;5;129;01min\u001b[39;00m clip\u001b[38;5;241m.\u001b[39miter_frames(logger\u001b[38;5;241m=\u001b[39mlogger, with_times\u001b[38;5;241m=\u001b[39m\u001b[38;5;28;01mTrue\u001b[39;00m,\n\u001b[0;32m    221\u001b[0m                                     fps\u001b[38;5;241m=\u001b[39mfps, dtype\u001b[38;5;241m=\u001b[39m\u001b[38;5;124m\"\u001b[39m\u001b[38;5;124muint8\u001b[39m\u001b[38;5;124m\"\u001b[39m):\n\u001b[0;32m    222\u001b[0m         \u001b[38;5;28;01mif\u001b[39;00m withmask:\n\u001b[0;32m    223\u001b[0m             mask \u001b[38;5;241m=\u001b[39m (\u001b[38;5;241m255\u001b[39m\u001b[38;5;241m*\u001b[39mclip\u001b[38;5;241m.\u001b[39mmask\u001b[38;5;241m.\u001b[39mget_frame(t))\n",
      "File \u001b[1;32md:\\TryOn\\DownTube\\.venv\\lib\\site-packages\\moviepy\\Clip.py:472\u001b[0m, in \u001b[0;36mClip.iter_frames\u001b[1;34m(self, fps, with_times, logger, dtype)\u001b[0m\n\u001b[0;32m    470\u001b[0m logger \u001b[38;5;241m=\u001b[39m proglog\u001b[38;5;241m.\u001b[39mdefault_bar_logger(logger)\n\u001b[0;32m    471\u001b[0m \u001b[38;5;28;01mfor\u001b[39;00m t \u001b[38;5;129;01min\u001b[39;00m logger\u001b[38;5;241m.\u001b[39miter_bar(t\u001b[38;5;241m=\u001b[39mnp\u001b[38;5;241m.\u001b[39marange(\u001b[38;5;241m0\u001b[39m, \u001b[38;5;28mself\u001b[39m\u001b[38;5;241m.\u001b[39mduration, \u001b[38;5;241m1.0\u001b[39m\u001b[38;5;241m/\u001b[39mfps)):\n\u001b[1;32m--> 472\u001b[0m     frame \u001b[38;5;241m=\u001b[39m \u001b[38;5;28;43mself\u001b[39;49m\u001b[38;5;241;43m.\u001b[39;49m\u001b[43mget_frame\u001b[49m\u001b[43m(\u001b[49m\u001b[43mt\u001b[49m\u001b[43m)\u001b[49m\n\u001b[0;32m    473\u001b[0m     \u001b[38;5;28;01mif\u001b[39;00m (dtype \u001b[38;5;129;01mis\u001b[39;00m \u001b[38;5;129;01mnot\u001b[39;00m \u001b[38;5;28;01mNone\u001b[39;00m) \u001b[38;5;129;01mand\u001b[39;00m (frame\u001b[38;5;241m.\u001b[39mdtype \u001b[38;5;241m!=\u001b[39m dtype):\n\u001b[0;32m    474\u001b[0m         frame \u001b[38;5;241m=\u001b[39m frame\u001b[38;5;241m.\u001b[39mastype(dtype)\n",
      "File \u001b[1;32m<decorator-gen-29>:2\u001b[0m, in \u001b[0;36mget_frame\u001b[1;34m(self, t)\u001b[0m\n",
      "File \u001b[1;32md:\\TryOn\\DownTube\\.venv\\lib\\site-packages\\moviepy\\decorators.py:89\u001b[0m, in \u001b[0;36mpreprocess_args.<locals>.wrapper\u001b[1;34m(f, *a, **kw)\u001b[0m\n\u001b[0;32m     85\u001b[0m new_a \u001b[38;5;241m=\u001b[39m [fun(arg) \u001b[38;5;28;01mif\u001b[39;00m (name \u001b[38;5;129;01min\u001b[39;00m varnames) \u001b[38;5;28;01melse\u001b[39;00m arg\n\u001b[0;32m     86\u001b[0m          \u001b[38;5;28;01mfor\u001b[39;00m (arg, name) \u001b[38;5;129;01min\u001b[39;00m \u001b[38;5;28mzip\u001b[39m(a, names)]\n\u001b[0;32m     87\u001b[0m new_kw \u001b[38;5;241m=\u001b[39m {k: fun(v) \u001b[38;5;28;01mif\u001b[39;00m k \u001b[38;5;129;01min\u001b[39;00m varnames \u001b[38;5;28;01melse\u001b[39;00m v\n\u001b[0;32m     88\u001b[0m          \u001b[38;5;28;01mfor\u001b[39;00m (k,v) \u001b[38;5;129;01min\u001b[39;00m kw\u001b[38;5;241m.\u001b[39mitems()}\n\u001b[1;32m---> 89\u001b[0m \u001b[38;5;28;01mreturn\u001b[39;00m f(\u001b[38;5;241m*\u001b[39mnew_a, \u001b[38;5;241m*\u001b[39m\u001b[38;5;241m*\u001b[39mnew_kw)\n",
      "File \u001b[1;32md:\\TryOn\\DownTube\\.venv\\lib\\site-packages\\moviepy\\Clip.py:93\u001b[0m, in \u001b[0;36mClip.get_frame\u001b[1;34m(self, t)\u001b[0m\n\u001b[0;32m     91\u001b[0m         \u001b[38;5;28;01mreturn\u001b[39;00m frame\n\u001b[0;32m     92\u001b[0m \u001b[38;5;28;01melse\u001b[39;00m:\n\u001b[1;32m---> 93\u001b[0m     \u001b[38;5;28;01mreturn\u001b[39;00m \u001b[38;5;28;43mself\u001b[39;49m\u001b[38;5;241;43m.\u001b[39;49m\u001b[43mmake_frame\u001b[49m\u001b[43m(\u001b[49m\u001b[43mt\u001b[49m\u001b[43m)\u001b[49m\n",
      "File \u001b[1;32md:\\TryOn\\DownTube\\.venv\\lib\\site-packages\\moviepy\\video\\io\\VideoFileClip.py:113\u001b[0m, in \u001b[0;36mVideoFileClip.__init__.<locals>.<lambda>\u001b[1;34m(t)\u001b[0m\n\u001b[0;32m    109\u001b[0m     \u001b[38;5;28mself\u001b[39m\u001b[38;5;241m.\u001b[39mmask\u001b[38;5;241m.\u001b[39mfps \u001b[38;5;241m=\u001b[39m \u001b[38;5;28mself\u001b[39m\u001b[38;5;241m.\u001b[39mfps\n\u001b[0;32m    111\u001b[0m \u001b[38;5;28;01melse\u001b[39;00m:\n\u001b[1;32m--> 113\u001b[0m     \u001b[38;5;28mself\u001b[39m\u001b[38;5;241m.\u001b[39mmake_frame \u001b[38;5;241m=\u001b[39m \u001b[38;5;28;01mlambda\u001b[39;00m t: \u001b[38;5;28;43mself\u001b[39;49m\u001b[38;5;241;43m.\u001b[39;49m\u001b[43mreader\u001b[49m\u001b[38;5;241;43m.\u001b[39;49m\u001b[43mget_frame\u001b[49m\u001b[43m(\u001b[49m\u001b[43mt\u001b[49m\u001b[43m)\u001b[49m\n\u001b[0;32m    115\u001b[0m \u001b[38;5;66;03m# Make a reader for the audio, if any.\u001b[39;00m\n\u001b[0;32m    116\u001b[0m \u001b[38;5;28;01mif\u001b[39;00m audio \u001b[38;5;129;01mand\u001b[39;00m \u001b[38;5;28mself\u001b[39m\u001b[38;5;241m.\u001b[39mreader\u001b[38;5;241m.\u001b[39minfos[\u001b[38;5;124m'\u001b[39m\u001b[38;5;124maudio_found\u001b[39m\u001b[38;5;124m'\u001b[39m]:\n",
      "File \u001b[1;32md:\\TryOn\\DownTube\\.venv\\lib\\site-packages\\moviepy\\video\\io\\ffmpeg_reader.py:184\u001b[0m, in \u001b[0;36mFFMPEG_VideoReader.get_frame\u001b[1;34m(self, t)\u001b[0m\n\u001b[0;32m    182\u001b[0m \u001b[38;5;28;01melse\u001b[39;00m:\n\u001b[0;32m    183\u001b[0m     \u001b[38;5;28mself\u001b[39m\u001b[38;5;241m.\u001b[39mskip_frames(pos\u001b[38;5;241m-\u001b[39m\u001b[38;5;28mself\u001b[39m\u001b[38;5;241m.\u001b[39mpos\u001b[38;5;241m-\u001b[39m\u001b[38;5;241m1\u001b[39m)\n\u001b[1;32m--> 184\u001b[0m result \u001b[38;5;241m=\u001b[39m \u001b[38;5;28;43mself\u001b[39;49m\u001b[38;5;241;43m.\u001b[39;49m\u001b[43mread_frame\u001b[49m\u001b[43m(\u001b[49m\u001b[43m)\u001b[49m\n\u001b[0;32m    185\u001b[0m \u001b[38;5;28mself\u001b[39m\u001b[38;5;241m.\u001b[39mpos \u001b[38;5;241m=\u001b[39m pos\n\u001b[0;32m    186\u001b[0m \u001b[38;5;28;01mreturn\u001b[39;00m result\n",
      "File \u001b[1;32md:\\TryOn\\DownTube\\.venv\\lib\\site-packages\\moviepy\\video\\io\\ffmpeg_reader.py:120\u001b[0m, in \u001b[0;36mFFMPEG_VideoReader.read_frame\u001b[1;34m(self)\u001b[0m\n\u001b[0;32m    117\u001b[0m w, h \u001b[38;5;241m=\u001b[39m \u001b[38;5;28mself\u001b[39m\u001b[38;5;241m.\u001b[39msize\n\u001b[0;32m    118\u001b[0m nbytes\u001b[38;5;241m=\u001b[39m \u001b[38;5;28mself\u001b[39m\u001b[38;5;241m.\u001b[39mdepth\u001b[38;5;241m*\u001b[39mw\u001b[38;5;241m*\u001b[39mh\n\u001b[1;32m--> 120\u001b[0m s \u001b[38;5;241m=\u001b[39m \u001b[38;5;28;43mself\u001b[39;49m\u001b[38;5;241;43m.\u001b[39;49m\u001b[43mproc\u001b[49m\u001b[38;5;241;43m.\u001b[39;49m\u001b[43mstdout\u001b[49m\u001b[38;5;241;43m.\u001b[39;49m\u001b[43mread\u001b[49m\u001b[43m(\u001b[49m\u001b[43mnbytes\u001b[49m\u001b[43m)\u001b[49m\n\u001b[0;32m    121\u001b[0m \u001b[38;5;28;01mif\u001b[39;00m \u001b[38;5;28mlen\u001b[39m(s) \u001b[38;5;241m!=\u001b[39m nbytes:\n\u001b[0;32m    123\u001b[0m     warnings\u001b[38;5;241m.\u001b[39mwarn(\u001b[38;5;124m\"\u001b[39m\u001b[38;5;124mWarning: in file \u001b[39m\u001b[38;5;132;01m%s\u001b[39;00m\u001b[38;5;124m, \u001b[39m\u001b[38;5;124m\"\u001b[39m\u001b[38;5;241m%\u001b[39m(\u001b[38;5;28mself\u001b[39m\u001b[38;5;241m.\u001b[39mfilename)\u001b[38;5;241m+\u001b[39m\n\u001b[0;32m    124\u001b[0m            \u001b[38;5;124m\"\u001b[39m\u001b[38;5;132;01m%d\u001b[39;00m\u001b[38;5;124m bytes wanted but \u001b[39m\u001b[38;5;132;01m%d\u001b[39;00m\u001b[38;5;124m bytes read,\u001b[39m\u001b[38;5;124m\"\u001b[39m\u001b[38;5;241m%\u001b[39m(nbytes, \u001b[38;5;28mlen\u001b[39m(s))\u001b[38;5;241m+\u001b[39m\n\u001b[0;32m    125\u001b[0m            \u001b[38;5;124m\"\u001b[39m\u001b[38;5;124mat frame \u001b[39m\u001b[38;5;132;01m%d\u001b[39;00m\u001b[38;5;124m/\u001b[39m\u001b[38;5;132;01m%d\u001b[39;00m\u001b[38;5;124m, at time \u001b[39m\u001b[38;5;132;01m%.02f\u001b[39;00m\u001b[38;5;124m/\u001b[39m\u001b[38;5;132;01m%.02f\u001b[39;00m\u001b[38;5;124m sec. \u001b[39m\u001b[38;5;124m\"\u001b[39m\u001b[38;5;241m%\u001b[39m(\n\u001b[1;32m   (...)\u001b[0m\n\u001b[0;32m    129\u001b[0m            \u001b[38;5;124m\"\u001b[39m\u001b[38;5;124mUsing the last valid frame instead.\u001b[39m\u001b[38;5;124m\"\u001b[39m,\n\u001b[0;32m    130\u001b[0m            \u001b[38;5;167;01mUserWarning\u001b[39;00m)\n",
      "\u001b[1;31mKeyboardInterrupt\u001b[0m: "
     ]
    }
   ],
   "source": [
    "from moviepy.editor import VideoFileClip, AudioFileClip\n",
    "import traceback\n",
    "\n",
    "def combine_video_audio(video_path, audio_path, output_path):\n",
    "    try:\n",
    "        # Load the video and audio files\n",
    "        # video_clip = VideoFileClip(video_path)\n",
    "        # audio_clip = AudioFileClip(audio_path)\n",
    "        with VideoFileClip(video_path) as video_clip, AudioFileClip(audio_path) as audio_clip:\n",
    "\n",
    "        # Get metadata of video file\n",
    "            video_fps = video_clip.fps\n",
    "            video_size = video_clip.size\n",
    "            video_rotation = video_clip.rotation\n",
    "\n",
    "            # Set the audio of the video clip to the loaded audio clip\n",
    "            video_clip = video_clip.set_audio(audio_clip)\n",
    "\n",
    "            # Write the combined video with audio to a new file\n",
    "            video_clip.write_videofile(output_path, codec=\"libx264\", audio_codec=\"aac\")\n",
    "\n",
    "            # Close the clips\n",
    "            video_clip.close()\n",
    "            audio_clip.close()\n",
    "\n",
    "    except KeyError as e:\n",
    "        # Handle KeyError\n",
    "        print(f\"Error: {e}\")\n",
    "        print(\"Video metadata is missing required keys.\")\n",
    "        traceback.print_exc()  # Print traceback for debugging\n",
    "\n",
    "if __name__ == \"__main__\":\n",
    "    video_path = v_path\n",
    "    audio_path = a_path\n",
    "    output_path = full_path+'\\\\'+os.path.splitext(filename)[0]+'.mp4'\n",
    "\n",
    "    combine_video_audio(video_path, audio_path, output_path)\n",
    "    print(output_path)\n"
   ]
  },
  {
   "cell_type": "code",
   "execution_count": 37,
   "metadata": {},
   "outputs": [
    {
     "name": "stderr",
     "output_type": "stream",
     "text": [
      "t:   8%|▊         | 510/6780 [00:25<01:55, 54.10it/s, now=None]"
     ]
    }
   ],
   "source": [
    "os.remove(v_path)\n",
    "os.remove(a_path)"
   ]
  }
 ],
 "metadata": {
  "kernelspec": {
   "display_name": ".venv",
   "language": "python",
   "name": "python3"
  },
  "language_info": {
   "codemirror_mode": {
    "name": "ipython",
    "version": 3
   },
   "file_extension": ".py",
   "mimetype": "text/x-python",
   "name": "python",
   "nbconvert_exporter": "python",
   "pygments_lexer": "ipython3",
   "version": "3.10.9"
  }
 },
 "nbformat": 4,
 "nbformat_minor": 2
}
