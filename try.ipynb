{
 "cells": [
  {
   "cell_type": "markdown",
   "metadata": {},
   "source": [
    "<h1>DOWNTUBE</h1>"
   ]
  },
  {
   "cell_type": "code",
   "execution_count": 5,
   "metadata": {},
   "outputs": [],
   "source": [
    "import inquirer\n",
    "from pyfiglet import Figlet\n",
    "from pytube.__main__ import YouTube\n",
    "from rich import print\n",
    "import io"
   ]
  },
  {
   "cell_type": "code",
   "execution_count": 6,
   "metadata": {},
   "outputs": [
    {
     "data": {
      "text/html": [
       "<pre style=\"white-space:pre;overflow-x:auto;line-height:normal;font-family:Menlo,'DejaVu Sans Mono',consolas,'Courier New',monospace\"><span style=\"color: #800000; text-decoration-color: #800000\"> _____                      _         _          </span>\n",
       "<span style=\"color: #800000; text-decoration-color: #800000\">|  __ \\                    | |       | |         </span>\n",
       "<span style=\"color: #800000; text-decoration-color: #800000\">| |  | | _____      ___ __ | |_ _   _| |__   ___ </span>\n",
       "<span style=\"color: #800000; text-decoration-color: #800000\">| |  | |/ _ \\ \\ /\\ / / </span><span style=\"color: #800000; text-decoration-color: #800000\">'_ \\| __| | | | '</span><span style=\"color: #800000; text-decoration-color: #800000\">_ \\ / _ \\</span>\n",
       "<span style=\"color: #800000; text-decoration-color: #800000\">| |__| | </span><span style=\"color: #800000; text-decoration-color: #800000; font-weight: bold\">(</span><span style=\"color: #800000; text-decoration-color: #800000\">_</span><span style=\"color: #800000; text-decoration-color: #800000; font-weight: bold\">)</span><span style=\"color: #800000; text-decoration-color: #800000\"> \\ V  V /| | | | |_| |_| | |_</span><span style=\"color: #800000; text-decoration-color: #800000; font-weight: bold\">)</span><span style=\"color: #800000; text-decoration-color: #800000\"> |  __/</span>\n",
       "<span style=\"color: #800000; text-decoration-color: #800000\">|_____/ \\___/ \\_/\\_/ |_| |_|\\__|\\__,_|_.__/ \\___|</span>\n",
       "<span style=\"color: #800000; text-decoration-color: #800000\">                                                 </span>\n",
       "<span style=\"color: #800000; text-decoration-color: #800000\">                                                 </span>\n",
       "\n",
       "</pre>\n"
      ],
      "text/plain": [
       "\u001b[31m _____                      _         _          \u001b[0m\n",
       "\u001b[31m|  __ \\                    | |       | |         \u001b[0m\n",
       "\u001b[31m| |  | | _____      ___ __ | |_ _   _| |__   ___ \u001b[0m\n",
       "\u001b[31m| |  | |\u001b[0m\u001b[31m/\u001b[0m\u001b[31m _ \\ \\ \u001b[0m\u001b[31m/\u001b[0m\u001b[31m\\ \u001b[0m\u001b[31m/\u001b[0m\u001b[31m \u001b[0m\u001b[31m/\u001b[0m\u001b[31m \u001b[0m\u001b[31m'_ \\| __| | | | '\u001b[0m\u001b[31m_ \\ \u001b[0m\u001b[31m/\u001b[0m\u001b[31m _ \\\u001b[0m\n",
       "\u001b[31m| |__| | \u001b[0m\u001b[1;31m(\u001b[0m\u001b[31m_\u001b[0m\u001b[1;31m)\u001b[0m\u001b[31m \\ V  V \u001b[0m\u001b[31m/\u001b[0m\u001b[31m| | | | |_| |_| | |_\u001b[0m\u001b[1;31m)\u001b[0m\u001b[31m |  __/\u001b[0m\n",
       "\u001b[31m|_____/ \\___/ \\_/\\_/ |_| |_|\\__|\\__,_|_.__/ \\___|\u001b[0m\n",
       "\u001b[31m                                                 \u001b[0m\n",
       "\u001b[31m                                                 \u001b[0m\n",
       "\n"
      ]
     },
     "metadata": {},
     "output_type": "display_data"
    }
   ],
   "source": [
    "figlet = Figlet(font='big')\n",
    "print(f\"[red]{figlet.renderText('Downtube')}[/red]\")"
   ]
  },
  {
   "cell_type": "code",
   "execution_count": 7,
   "metadata": {},
   "outputs": [],
   "source": [
    "video_url = \"https://youtu.be/MwtKJG_87fw?si=ysG17gJK52FsFny9\"\n",
    "url = 'https://youtu.be/LXb3EKWsInQ?si=4mM76pLjBmlBj2A2'"
   ]
  },
  {
   "cell_type": "code",
   "execution_count": 8,
   "metadata": {},
   "outputs": [],
   "source": [
    "yt = YouTube(url=video_url)\n",
    "video = yt.streams.filter(only_video=True)\n",
    "audio = yt.streams.filter(only_audio=True)"
   ]
  },
  {
   "cell_type": "code",
   "execution_count": 9,
   "metadata": {},
   "outputs": [],
   "source": [
    "resolution = dict()\n",
    "for x in video:\n",
    "        resolution[x.itag] = [x.resolution,x.fps,x.filesize_mb,x.mime_type]"
   ]
  },
  {
   "cell_type": "code",
   "execution_count": 10,
   "metadata": {},
   "outputs": [
    {
     "data": {
      "text/plain": [
       "{137: ['1080p', 24, 102.664, 'video/mp4'],\n",
       " 248: ['1080p', 24, 60.153, 'video/webm'],\n",
       " 136: ['720p', 24, 35.565, 'video/mp4'],\n",
       " 247: ['720p', 24, 34.326, 'video/webm'],\n",
       " 135: ['480p', 24, 19.742, 'video/mp4'],\n",
       " 244: ['480p', 24, 18.143, 'video/webm'],\n",
       " 134: ['360p', 24, 11.958, 'video/mp4'],\n",
       " 243: ['360p', 24, 10.0, 'video/webm'],\n",
       " 133: ['240p', 24, 5.286, 'video/mp4'],\n",
       " 242: ['240p', 24, 5.49, 'video/webm'],\n",
       " 160: ['144p', 24, 2.37, 'video/mp4'],\n",
       " 278: ['144p', 24, 2.396, 'video/webm']}"
      ]
     },
     "execution_count": 10,
     "metadata": {},
     "output_type": "execute_result"
    }
   ],
   "source": [
    "resolution"
   ]
  },
  {
   "cell_type": "code",
   "execution_count": 11,
   "metadata": {},
   "outputs": [
    {
     "data": {
      "text/plain": [
       "[<Stream: itag=\"139\" mime_type=\"audio/mp4\" abr=\"48kbps\" acodec=\"mp4a.40.5\" progressive=\"False\" type=\"audio\">, <Stream: itag=\"140\" mime_type=\"audio/mp4\" abr=\"128kbps\" acodec=\"mp4a.40.2\" progressive=\"False\" type=\"audio\">, <Stream: itag=\"249\" mime_type=\"audio/webm\" abr=\"50kbps\" acodec=\"opus\" progressive=\"False\" type=\"audio\">, <Stream: itag=\"250\" mime_type=\"audio/webm\" abr=\"70kbps\" acodec=\"opus\" progressive=\"False\" type=\"audio\">, <Stream: itag=\"251\" mime_type=\"audio/webm\" abr=\"160kbps\" acodec=\"opus\" progressive=\"False\" type=\"audio\">]"
      ]
     },
     "execution_count": 11,
     "metadata": {},
     "output_type": "execute_result"
    }
   ],
   "source": [
    "audio"
   ]
  },
  {
   "cell_type": "code",
   "execution_count": 12,
   "metadata": {},
   "outputs": [],
   "source": [
    "resolution = dict()\n",
    "for x in audio:\n",
    "        resolution[x.itag] = [x.mime_type,x.abr,x.filesize_mb]"
   ]
  },
  {
   "cell_type": "code",
   "execution_count": 13,
   "metadata": {},
   "outputs": [
    {
     "data": {
      "text/plain": [
       "{139: ['audio/mp4', '48kbps', 1.254],\n",
       " 140: ['audio/mp4', '128kbps', 3.324],\n",
       " 249: ['audio/webm', '50kbps', 1.378],\n",
       " 250: ['audio/webm', '70kbps', 1.808],\n",
       " 251: ['audio/webm', '160kbps', 3.547]}"
      ]
     },
     "execution_count": 13,
     "metadata": {},
     "output_type": "execute_result"
    }
   ],
   "source": [
    "resolution"
   ]
  },
  {
   "cell_type": "code",
   "execution_count": 14,
   "metadata": {},
   "outputs": [],
   "source": [
    "highest_quality_stream = None\n",
    "highest_bitrate = 0\n",
    "\n",
    "    # print(audio)\n",
    "\n",
    "    # # Iterate through the streams to find the highest quality audio\n",
    "for stream in audio:\n",
    "    if stream.type == \"audio\":\n",
    "        bitrate = int(stream.abr.replace(\"kbps\", \"\"))\n",
    "        if bitrate > highest_bitrate:\n",
    "            highest_bitrate = bitrate\n",
    "            highest_quality_stream = stream"
   ]
  },
  {
   "cell_type": "code",
   "execution_count": 15,
   "metadata": {},
   "outputs": [
    {
     "data": {
      "text/plain": [
       "<Stream: itag=\"251\" mime_type=\"audio/webm\" abr=\"160kbps\" acodec=\"opus\" progressive=\"False\" type=\"audio\">"
      ]
     },
     "execution_count": 15,
     "metadata": {},
     "output_type": "execute_result"
    }
   ],
   "source": [
    "highest_quality_stream"
   ]
  },
  {
   "cell_type": "code",
   "execution_count": 16,
   "metadata": {},
   "outputs": [
    {
     "data": {
      "text/html": [
       "<pre style=\"white-space:pre;overflow-x:auto;line-height:normal;font-family:Menlo,'DejaVu Sans Mono',consolas,'Courier New',monospace\">File created in the cwd\n",
       "</pre>\n"
      ],
      "text/plain": [
       "File created in the cwd\n"
      ]
     },
     "metadata": {},
     "output_type": "display_data"
    },
    {
     "data": {
      "text/html": [
       "<pre style=\"white-space:pre;overflow-x:auto;line-height:normal;font-family:Menlo,'DejaVu Sans Mono',consolas,'Courier New',monospace\">d:\\TryOn\\DownTube\\tmpmlfsa16m.webm\n",
       "</pre>\n"
      ],
      "text/plain": [
       "d:\\TryOn\\DownTube\\tmpmlfsa16m.webm\n"
      ]
     },
     "metadata": {},
     "output_type": "display_data"
    },
    {
     "data": {
      "text/html": [
       "<pre style=\"white-space:pre;overflow-x:auto;line-height:normal;font-family:Menlo,'DejaVu Sans Mono',consolas,'Courier New',monospace\">Directory: d:\\TryOn\\DownTube\n",
       "</pre>\n"
      ],
      "text/plain": [
       "Directory: d:\\TryOn\\DownTube\n"
      ]
     },
     "metadata": {},
     "output_type": "display_data"
    },
    {
     "data": {
      "text/html": [
       "<pre style=\"white-space:pre;overflow-x:auto;line-height:normal;font-family:Menlo,'DejaVu Sans Mono',consolas,'Courier New',monospace\">Filename: tmpmlfsa16m.webm\n",
       "</pre>\n"
      ],
      "text/plain": [
       "Filename: tmpmlfsa16m.webm\n"
      ]
     },
     "metadata": {},
     "output_type": "display_data"
    }
   ],
   "source": [
    "import tempfile\n",
    "import os\n",
    "video_file = tempfile.TemporaryFile(\n",
    "    dir='./',\n",
    "    suffix='.webm',\n",
    "    delete=False\n",
    ")\n",
    "print('File created in the cwd')\n",
    "print(video_file.name)\n",
    "\n",
    "file_path = video_file.name\n",
    "# Get the directory (folder) of the file\n",
    "directory = os.path.dirname(file_path)\n",
    "\n",
    "# Get the filename (with extension) from the file path\n",
    "filename = os.path.basename(file_path)\n",
    "\n",
    "print(\"Directory:\", directory)\n",
    "print(\"Filename:\", filename)\n",
    "\n",
    "yt.streams.get_by_itag(137).download(output_path=directory,skip_existing=True,filename=filename)"
   ]
  },
  {
   "cell_type": "code",
   "execution_count": null,
   "metadata": {},
   "outputs": [],
   "source": []
  },
  {
   "cell_type": "code",
   "execution_count": 17,
   "metadata": {},
   "outputs": [],
   "source": [
    "os.remove(video_file.name)"
   ]
  }
 ],
 "metadata": {
  "kernelspec": {
   "display_name": ".venv",
   "language": "python",
   "name": "python3"
  },
  "language_info": {
   "codemirror_mode": {
    "name": "ipython",
    "version": 3
   },
   "file_extension": ".py",
   "mimetype": "text/x-python",
   "name": "python",
   "nbconvert_exporter": "python",
   "pygments_lexer": "ipython3",
   "version": "3.10.9"
  }
 },
 "nbformat": 4,
 "nbformat_minor": 2
}
